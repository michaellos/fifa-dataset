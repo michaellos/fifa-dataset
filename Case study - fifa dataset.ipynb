{
 "cells": [
  {
   "cell_type": "markdown",
   "metadata": {},
   "source": [
    "# Case study - fifa dataset"
   ]
  },
  {
   "cell_type": "markdown",
   "metadata": {},
   "source": [
    "Dataset comes from Fifa 18 game, available at kaggle: https://www.kaggle.com/thec03u5/fifa-18-demo-player-dataset"
   ]
  },
  {
   "cell_type": "markdown",
   "metadata": {},
   "source": [
    "## Table of contents:\n",
    "* [1. Reading and preprocessing data](#first-bullet)\n",
    "* [2. Prediction of position](#second-bullet)\n",
    "* [3. Prediction of overall rating](#third-bullet)\n",
    "* [4. Prediction of market values](#fourth-bullet)"
   ]
  },
  {
   "cell_type": "markdown",
   "metadata": {},
   "source": [
    "## 1. Reading and preprocessing data  <a class=\"anchor\" id=\"first-bullet\"></a>"
   ]
  },
  {
   "cell_type": "code",
   "execution_count": 1,
   "metadata": {},
   "outputs": [
    {
     "name": "stderr",
     "output_type": "stream",
     "text": [
      "C:\\Users\\Michal\\Anaconda3\\lib\\site-packages\\IPython\\core\\interactiveshell.py:3058: DtypeWarning: Columns (23,35) have mixed types. Specify dtype option on import or set low_memory=False.\n",
      "  interactivity=interactivity, compiler=compiler, result=result)\n"
     ]
    }
   ],
   "source": [
    "import numpy as np\n",
    "import pandas as pd\n",
    "\n",
    "def convert_to_int(x):\n",
    "    remove = \"K€M\"\n",
    "    for i in remove:\n",
    "        x = x.replace(i,\"\")\n",
    "    return x\n",
    "\n",
    "fifa_df = pd.read_csv(\"fifa-18-demo-player-dataset/CompleteDataset.csv\", index_col=0)"
   ]
  },
  {
   "cell_type": "code",
   "execution_count": 2,
   "metadata": {
    "scrolled": true
   },
   "outputs": [
    {
     "data": {
      "text/plain": [
       "Index(['Name', 'Age', 'Nationality', 'Overall', 'Potential', 'Club', 'Value',\n",
       "       'Wage', 'Special', 'Acceleration', 'Aggression', 'Agility', 'Balance',\n",
       "       'Ball control', 'Composure', 'Crossing', 'Curve', 'Dribbling',\n",
       "       'Finishing', 'Free kick accuracy', 'GK diving', 'GK handling',\n",
       "       'GK kicking', 'GK positioning', 'GK reflexes', 'Heading accuracy',\n",
       "       'Interceptions', 'Jumping', 'Long passing', 'Long shots', 'Marking',\n",
       "       'Penalties', 'Positioning', 'Reactions', 'Short passing', 'Shot power',\n",
       "       'Sliding tackle', 'Sprint speed', 'Stamina', 'Standing tackle',\n",
       "       'Strength', 'Vision', 'Volleys', 'CAM', 'CB', 'CDM', 'CF', 'CM', 'LAM',\n",
       "       'LB', 'LCB', 'LCM', 'LDM', 'LF', 'LM', 'LS', 'LW', 'LWB',\n",
       "       'Preferred Positions', 'RAM', 'RB', 'RCB', 'RCM', 'RDM', 'RF', 'RM',\n",
       "       'RS', 'RW', 'RWB', 'ST'],\n",
       "      dtype='object')"
      ]
     },
     "execution_count": 2,
     "metadata": {},
     "output_type": "execute_result"
    }
   ],
   "source": [
    "#Converted the value and wage column into integer\n",
    "fifa_df[\"Wage\"] = fifa_df[\"Wage\"].apply(lambda x: convert_to_int(x))\n",
    "fifa_df[\"Value\"] = fifa_df[\"Value\"].apply(lambda x: convert_to_int(x))\n",
    "fifa_df[[\"Value\",\"Wage\"]] = fifa_df[[\"Value\",\"Wage\"]].astype(float)\n",
    "\n",
    "fifa_df.drop([\"Photo\", \"Flag\",\"Club Logo\",\"ID\"],1,inplace=True)\n",
    "fifa_df.head()\n",
    "fifa_df.columns"
   ]
  },
  {
   "cell_type": "markdown",
   "metadata": {},
   "source": [
    "## 2. Prediction of position <a class=\"anchor\" id=\"second-bullet\"></a>"
   ]
  },
  {
   "cell_type": "code",
   "execution_count": 3,
   "metadata": {},
   "outputs": [
    {
     "name": "stderr",
     "output_type": "stream",
     "text": [
      "C:\\Users\\Michal\\Anaconda3\\lib\\site-packages\\IPython\\core\\interactiveshell.py:3058: DtypeWarning: Columns (11,24) have mixed types. Specify dtype option on import or set low_memory=False.\n",
      "  interactivity=interactivity, compiler=compiler, result=result)\n"
     ]
    }
   ],
   "source": [
    "# Clean the Object values in the data frame, discovered there was \"67 + 3\" in the dataset\n",
    "def clean_values(x):\n",
    "    try:\n",
    "        if len(x)>2:\n",
    "            y = x[:2]\n",
    "            return y\n",
    "        else:\n",
    "            return x\n",
    "    except TypeError:\n",
    "        return x\n",
    "\n",
    "player_attributes_df = pd.read_csv(\"fifa-18-demo-player-dataset/PlayerAttributeData.csv\", index_col=0)\n",
    "# position_fifa_df.drop([\"Age\", \"Nationality\", \"Overall\", \"Potential\", \"Club\", \"Value\", \"Wage\", \"Special\"],1,inplace=True)\n",
    "player_attributes_df.drop([\"ID\"],1,inplace=True)\n",
    "X = player_attributes_df.copy()\n",
    "\n",
    "for col in X.columns:\n",
    "    X[col] = X[col].apply(lambda x : clean_values(x))\n",
    "for col in X.columns:\n",
    "    X[col] = X[col].astype(float)\n"
   ]
  },
  {
   "cell_type": "code",
   "execution_count": 4,
   "metadata": {},
   "outputs": [
    {
     "data": {
      "text/html": [
       "<div>\n",
       "<style scoped>\n",
       "    .dataframe tbody tr th:only-of-type {\n",
       "        vertical-align: middle;\n",
       "    }\n",
       "\n",
       "    .dataframe tbody tr th {\n",
       "        vertical-align: top;\n",
       "    }\n",
       "\n",
       "    .dataframe thead th {\n",
       "        text-align: right;\n",
       "    }\n",
       "</style>\n",
       "<table border=\"1\" class=\"dataframe\">\n",
       "  <thead>\n",
       "    <tr style=\"text-align: right;\">\n",
       "      <th></th>\n",
       "      <th>Preferred Positions</th>\n",
       "    </tr>\n",
       "  </thead>\n",
       "  <tbody>\n",
       "    <tr>\n",
       "      <td>0</td>\n",
       "      <td>ST</td>\n",
       "    </tr>\n",
       "    <tr>\n",
       "      <td>1</td>\n",
       "      <td>RW</td>\n",
       "    </tr>\n",
       "    <tr>\n",
       "      <td>2</td>\n",
       "      <td>LW</td>\n",
       "    </tr>\n",
       "    <tr>\n",
       "      <td>3</td>\n",
       "      <td>ST</td>\n",
       "    </tr>\n",
       "    <tr>\n",
       "      <td>4</td>\n",
       "      <td>GK</td>\n",
       "    </tr>\n",
       "  </tbody>\n",
       "</table>\n",
       "</div>"
      ],
      "text/plain": [
       "  Preferred Positions\n",
       "0                  ST\n",
       "1                  RW\n",
       "2                  LW\n",
       "3                  ST\n",
       "4                  GK"
      ]
     },
     "execution_count": 4,
     "metadata": {},
     "output_type": "execute_result"
    }
   ],
   "source": [
    "Y = fifa_df[['Preferred Positions']].copy()\n",
    "Y['Preferred Positions'] = Y['Preferred Positions'].str.split().str[0]\n",
    "Y.head()"
   ]
  },
  {
   "cell_type": "markdown",
   "metadata": {},
   "source": [
    "### ZeroR classifier"
   ]
  },
  {
   "cell_type": "code",
   "execution_count": 5,
   "metadata": {},
   "outputs": [
    {
     "name": "stdout",
     "output_type": "stream",
     "text": [
      "training data points: 12136\n",
      "validation data points: 1349\n",
      "testing data points: 4496\n"
     ]
    }
   ],
   "source": [
    "from sklearn.model_selection import train_test_split\n",
    "\n",
    "(trainData, testData, trainLabels, testLabels) = train_test_split(X, Y, test_size=0.25, random_state=42)\n",
    "\n",
    "(trainData, valData, trainLabels, valLabels) = train_test_split(trainData, trainLabels, test_size=0.1, random_state=84)\n",
    "\n",
    "print(\"training data points: {}\".format(len(trainLabels)))\n",
    "print(\"validation data points: {}\".format(len(valLabels)))\n",
    "print(\"testing data points: {}\".format(len(testLabels)))"
   ]
  },
  {
   "cell_type": "code",
   "execution_count": 6,
   "metadata": {},
   "outputs": [
    {
     "name": "stdout",
     "output_type": "stream",
     "text": [
      "['CB' 'CB' 'CB' ... 'CB' 'CB' 'CB']\n",
      "0.1475166790214974\n"
     ]
    }
   ],
   "source": [
    "from sklearn.dummy import DummyClassifier\n",
    "\n",
    "model = DummyClassifier(strategy='most_frequent', random_state=1)\n",
    "model.fit(trainData, trainLabels.values.ravel())\n",
    "pred = model.predict(testData)\n",
    "print(pred)\n",
    "score = model.score(valData, valLabels)\n",
    "print(score)"
   ]
  },
  {
   "cell_type": "markdown",
   "metadata": {},
   "source": [
    "### kNN"
   ]
  },
  {
   "cell_type": "code",
   "execution_count": 7,
   "metadata": {},
   "outputs": [
    {
     "name": "stdout",
     "output_type": "stream",
     "text": [
      "training data points: 12136\n",
      "validation data points: 1349\n",
      "testing data points: 4496\n"
     ]
    }
   ],
   "source": [
    "from sklearn.model_selection import train_test_split\n",
    "\n",
    "(trainData, testData, trainLabels, testLabels) = train_test_split(X, Y, test_size=0.25, random_state=42)\n",
    "\n",
    "(trainData, valData, trainLabels, valLabels) = train_test_split(trainData, trainLabels, test_size=0.1, random_state=84)\n",
    "\n",
    "print(\"training data points: {}\".format(len(trainLabels)))\n",
    "print(\"validation data points: {}\".format(len(valLabels)))\n",
    "print(\"testing data points: {}\".format(len(testLabels)))"
   ]
  },
  {
   "cell_type": "markdown",
   "metadata": {},
   "source": [
    "Searching for best k"
   ]
  },
  {
   "cell_type": "code",
   "execution_count": 8,
   "metadata": {},
   "outputs": [
    {
     "name": "stdout",
     "output_type": "stream",
     "text": [
      "k=1, accuracy=44.33%\n",
      "k=3, accuracy=44.85%\n",
      "k=5, accuracy=47.44%\n",
      "k=7, accuracy=48.70%\n",
      "k=9, accuracy=49.81%\n",
      "k=11, accuracy=49.52%\n",
      "k=13, accuracy=49.22%\n",
      "k=15, accuracy=50.93%\n",
      "k=17, accuracy=51.30%\n",
      "k=19, accuracy=51.67%\n",
      "k=21, accuracy=52.34%\n",
      "k=23, accuracy=51.52%\n",
      "k=25, accuracy=51.52%\n",
      "k=27, accuracy=51.52%\n",
      "k=29, accuracy=51.82%\n",
      "k=31, accuracy=51.82%\n",
      "k=33, accuracy=51.74%\n",
      "k=35, accuracy=52.04%\n",
      "k=37, accuracy=51.96%\n",
      "k=39, accuracy=52.04%\n",
      "k=21 achieved highest accuracy of 52.34% on validation data\n"
     ]
    }
   ],
   "source": [
    "from sklearn.neighbors import KNeighborsClassifier\n",
    "\n",
    "kVals = range(1, 40, 2)\n",
    "accuracies = []\n",
    "\n",
    "for k in range(1, 40, 2):\n",
    "    model = KNeighborsClassifier(n_neighbors=k)\n",
    "    model.fit(trainData, trainLabels.values.ravel())\n",
    "\n",
    "    score = model.score(valData, valLabels)\n",
    "    print(\"k=%d, accuracy=%.2f%%\" % (k, score * 100))\n",
    "    accuracies.append(score)\n",
    "\n",
    "i = int(np.argmax(accuracies))\n",
    "print(\"k=%d achieved highest accuracy of %.2f%% on validation data\" % (kVals[i], accuracies[i] * 100))"
   ]
  },
  {
   "cell_type": "code",
   "execution_count": 9,
   "metadata": {},
   "outputs": [
    {
     "name": "stdout",
     "output_type": "stream",
     "text": [
      "0.5080071174377224\n",
      "EVALUATION ON TESTING DATA\n",
      "              precision    recall  f1-score   support\n",
      "\n",
      "         CAM       0.23      0.21      0.22       274\n",
      "          CB       0.71      0.84      0.77       680\n",
      "         CDM       0.33      0.29      0.31       352\n",
      "          CF       0.00      0.00      0.00        41\n",
      "          CM       0.32      0.52      0.40       450\n",
      "          GK       1.00      1.00      1.00       525\n",
      "          LB       0.37      0.40      0.38       376\n",
      "          LM       0.24      0.15      0.18       370\n",
      "          LW       0.12      0.03      0.05       100\n",
      "         LWB       0.00      0.00      0.00        34\n",
      "          RB       0.32      0.26      0.29       311\n",
      "          RM       0.20      0.17      0.18       314\n",
      "          RW       0.05      0.01      0.02        95\n",
      "         RWB       0.00      0.00      0.00        26\n",
      "          ST       0.66      0.83      0.73       548\n",
      "\n",
      "    accuracy                           0.51      4496\n",
      "   macro avg       0.30      0.31      0.30      4496\n",
      "weighted avg       0.47      0.51      0.48      4496\n",
      "\n"
     ]
    },
    {
     "name": "stderr",
     "output_type": "stream",
     "text": [
      "C:\\Users\\Michal\\Anaconda3\\lib\\site-packages\\sklearn\\metrics\\classification.py:1437: UndefinedMetricWarning: Precision and F-score are ill-defined and being set to 0.0 in labels with no predicted samples.\n",
      "  'precision', 'predicted', average, warn_for)\n"
     ]
    }
   ],
   "source": [
    "# from __future__ import print_function\n",
    "from sklearn.metrics import classification_report\n",
    "\n",
    "model = KNeighborsClassifier(n_neighbors=kVals[i])\n",
    "model.fit(trainData, trainLabels.values.ravel())\n",
    "predictions = model.predict(testData)\n",
    "\n",
    "print(model.score(testData, testLabels))\n",
    "\n",
    "print(\"EVALUATION ON TESTING DATA\")\n",
    "print(classification_report(testLabels, predictions))"
   ]
  },
  {
   "cell_type": "markdown",
   "metadata": {},
   "source": [
    "### Decision tree"
   ]
  },
  {
   "cell_type": "code",
   "execution_count": 10,
   "metadata": {},
   "outputs": [
    {
     "name": "stdout",
     "output_type": "stream",
     "text": [
      "training data points: 13485\n",
      "testing data points: 4496\n"
     ]
    },
    {
     "name": "stderr",
     "output_type": "stream",
     "text": [
      "C:\\Users\\Michal\\Anaconda3\\lib\\site-packages\\sklearn\\preprocessing\\label.py:235: DataConversionWarning: A column-vector y was passed when a 1d array was expected. Please change the shape of y to (n_samples, ), for example using ravel().\n",
      "  y = column_or_1d(y, warn=True)\n"
     ]
    }
   ],
   "source": [
    "from sklearn.model_selection import train_test_split\n",
    "from sklearn.preprocessing import LabelEncoder\n",
    "\n",
    "label_encoder = LabelEncoder()\n",
    "Y = label_encoder.fit_transform(Y)\n",
    "\n",
    "(trainData, testData, trainLabels, testLabels) = train_test_split(X, Y, test_size=0.25, random_state=42)\n",
    "\n",
    "print(\"training data points: {}\".format(len(trainLabels)))\n",
    "# print(\"validation data points: {}\".format(len(valLabels)))\n",
    "print(\"testing data points: {}\".format(len(testLabels)))"
   ]
  },
  {
   "cell_type": "code",
   "execution_count": 11,
   "metadata": {
    "scrolled": false
   },
   "outputs": [
    {
     "name": "stdout",
     "output_type": "stream",
     "text": [
      "0.44684163701067614\n"
     ]
    }
   ],
   "source": [
    "from sklearn import tree\n",
    "\n",
    "clf = tree.DecisionTreeClassifier()\n",
    "clf.fit(X=trainData, y=trainLabels)\n",
    "clf.feature_importances_ # [ 1.,  0.,  0.]\n",
    "score = clf.score(X=testData, y=testLabels) # 1.0\n",
    "print(score)\n",
    "# tree.export_text(clf)\n",
    "# tree.plot_tree(clf)"
   ]
  },
  {
   "cell_type": "code",
   "execution_count": 12,
   "metadata": {},
   "outputs": [
    {
     "name": "stdout",
     "output_type": "stream",
     "text": [
      "Requirement already satisfied: graphviz in c:\\users\\michal\\anaconda3\\lib\\site-packages (0.13.2)\n"
     ]
    }
   ],
   "source": [
    "!pip install graphviz"
   ]
  },
  {
   "cell_type": "code",
   "execution_count": 13,
   "metadata": {},
   "outputs": [],
   "source": [
    "from graphviz import Source\n",
    "\n",
    "dotfile = open(\"dtree2.dot\", 'w')\n",
    "tree.export_graphviz(clf, out_file = dotfile, feature_names = X.columns)\n",
    "dotfile.close()"
   ]
  },
  {
   "cell_type": "code",
   "execution_count": 14,
   "metadata": {},
   "outputs": [
    {
     "name": "stdout",
     "output_type": "stream",
     "text": [
      "Automatically created module for IPython interactive environment\n",
      "Confusion matrix, without normalization\n",
      "[[ 68   2  23   3  53   0   6  29  11   0   2  41  10   0  26]\n",
      " [  2 477  42   1  37   0  38  12   0   2  61   3   0   3   2]\n",
      " [ 25  50  92   1 110   0  15  18   0   4  14  18   3   1   1]\n",
      " [  4   0   2   3   1   0   0   7   3   0   0   3   3   0  15]\n",
      " [ 47  32  83   3 170   0  14  35   6   1  16  26   5   2  10]\n",
      " [  0   0   0   0   1 524   0   0   0   0   0   0   0   0   0]\n",
      " [  5  63  36   0  32   0 107  24   2   4  74  17   2   7   3]\n",
      " [ 29   4  12  11  37   0  33  62  23   2  20  61  25   3  48]\n",
      " [ 11   1   2   2   7   0   3  10  13   1   0  19   9   0  22]\n",
      " [  0   1   2   1   2   0  13   3   0   4   7   0   1   0   0]\n",
      " [  2  53  19   1  26   0  72  19   0   4  88  15   3   8   1]\n",
      " [ 46   6  12   3  28   0  21  42  17   1  20  62  14   2  40]\n",
      " [ 17   1   0   4   5   0   1  14   7   1   2  15   8   0  20]\n",
      " [  1   4   3   0   1   0   5   4   0   0   4   3   0   1   0]\n",
      " [ 36   2   5  22   5   0   2  29  17   0   1  35  36   2 356]]\n",
      "Normalized confusion matrix\n",
      "[[0.25 0.01 0.08 0.01 0.19 0.   0.02 0.11 0.04 0.   0.01 0.15 0.04 0.\n",
      "  0.09]\n",
      " [0.   0.7  0.06 0.   0.05 0.   0.06 0.02 0.   0.   0.09 0.   0.   0.\n",
      "  0.  ]\n",
      " [0.07 0.14 0.26 0.   0.31 0.   0.04 0.05 0.   0.01 0.04 0.05 0.01 0.\n",
      "  0.  ]\n",
      " [0.1  0.   0.05 0.07 0.02 0.   0.   0.17 0.07 0.   0.   0.07 0.07 0.\n",
      "  0.37]\n",
      " [0.1  0.07 0.18 0.01 0.38 0.   0.03 0.08 0.01 0.   0.04 0.06 0.01 0.\n",
      "  0.02]\n",
      " [0.   0.   0.   0.   0.   1.   0.   0.   0.   0.   0.   0.   0.   0.\n",
      "  0.  ]\n",
      " [0.01 0.17 0.1  0.   0.09 0.   0.28 0.06 0.01 0.01 0.2  0.05 0.01 0.02\n",
      "  0.01]\n",
      " [0.08 0.01 0.03 0.03 0.1  0.   0.09 0.17 0.06 0.01 0.05 0.16 0.07 0.01\n",
      "  0.13]\n",
      " [0.11 0.01 0.02 0.02 0.07 0.   0.03 0.1  0.13 0.01 0.   0.19 0.09 0.\n",
      "  0.22]\n",
      " [0.   0.03 0.06 0.03 0.06 0.   0.38 0.09 0.   0.12 0.21 0.   0.03 0.\n",
      "  0.  ]\n",
      " [0.01 0.17 0.06 0.   0.08 0.   0.23 0.06 0.   0.01 0.28 0.05 0.01 0.03\n",
      "  0.  ]\n",
      " [0.15 0.02 0.04 0.01 0.09 0.   0.07 0.13 0.05 0.   0.06 0.2  0.04 0.01\n",
      "  0.13]\n",
      " [0.18 0.01 0.   0.04 0.05 0.   0.01 0.15 0.07 0.01 0.02 0.16 0.08 0.\n",
      "  0.21]\n",
      " [0.04 0.15 0.12 0.   0.04 0.   0.19 0.15 0.   0.   0.15 0.12 0.   0.04\n",
      "  0.  ]\n",
      " [0.07 0.   0.01 0.04 0.01 0.   0.   0.05 0.03 0.   0.   0.06 0.07 0.\n",
      "  0.65]]\n"
     ]
    },
    {
     "data": {
      "text/plain": [
       "<Figure size 1500x1500 with 2 Axes>"
      ]
     },
     "metadata": {},
     "output_type": "display_data"
    },
    {
     "data": {
      "text/plain": [
       "<Figure size 1500x1500 with 2 Axes>"
      ]
     },
     "metadata": {},
     "output_type": "display_data"
    }
   ],
   "source": [
    "from sklearn.metrics import confusion_matrix\n",
    "from sklearn.utils.multiclass import unique_labels\n",
    "import matplotlib.pyplot as plt\n",
    "print(__doc__)\n",
    "\n",
    "def plot_confusion_matrix(y_true, y_pred, classes,\n",
    "                          normalize=False,\n",
    "                          title=None,\n",
    "                          cmap=plt.cm.Blues):\n",
    "    \"\"\"\n",
    "    This function prints and plots the confusion matrix.\n",
    "    Normalization can be applied by setting `normalize=True`.\n",
    "    \"\"\"\n",
    "    if not title:\n",
    "        if normalize:\n",
    "            title = 'Normalized confusion matrix'\n",
    "        else:\n",
    "            title = 'Confusion matrix, without normalization'\n",
    "\n",
    "    # Compute confusion matrix\n",
    "    cm = confusion_matrix(y_true, y_pred)\n",
    "    # Only use the labels that appear in the data\n",
    "    classes = classes[unique_labels(y_true, y_pred)]\n",
    "    if normalize:\n",
    "        cm = cm.astype('float') / cm.sum(axis=1)[:, np.newaxis]\n",
    "        print(\"Normalized confusion matrix\")\n",
    "    else:\n",
    "        print('Confusion matrix, without normalization')\n",
    "\n",
    "    print(cm)\n",
    "\n",
    "    fig, ax = plt.subplots()\n",
    "    fig.set_figheight(15)\n",
    "    fig.set_figwidth(15)\n",
    "\n",
    "    im = ax.imshow(cm, interpolation='nearest', cmap=cmap)\n",
    "    ax.figure.colorbar(im, ax=ax)\n",
    "    # We want to show all ticks...\n",
    "    ax.set(xticks=np.arange(cm.shape[1]),\n",
    "           yticks=np.arange(cm.shape[0]),\n",
    "           # ... and label them with the respective list entries\n",
    "           xticklabels=classes, yticklabels=classes,\n",
    "           title=title,\n",
    "           ylabel='True label',\n",
    "           xlabel='Predicted label')\n",
    "\n",
    "    # Rotate the tick labels and set their alignment.\n",
    "    plt.setp(ax.get_xticklabels(), rotation=45, ha=\"right\",\n",
    "             rotation_mode=\"anchor\")\n",
    "\n",
    "    # Loop over data dimensions and create text annotations.\n",
    "    fmt = '.2f' if normalize else 'd'\n",
    "    thresh = cm.max() / 2.\n",
    "    for i in range(cm.shape[0]):\n",
    "        for j in range(cm.shape[1]):\n",
    "            ax.text(j, i, format(cm[i, j], fmt),\n",
    "                    ha=\"center\", va=\"center\",\n",
    "                    color=\"white\" if cm[i, j] > thresh else \"black\")\n",
    "    fig.tight_layout()\n",
    "    return ax\n",
    "\n",
    "\n",
    "np.set_printoptions(precision=2)\n",
    "\n",
    "y_pred = clf.fit(X=trainData, y=trainLabels).predict(testData)\n",
    "\n",
    "# Plot non-normalized confusion matrix\n",
    "plot_confusion_matrix(testLabels, y_pred, classes=label_encoder.classes_,\n",
    "                      title='Confusion matrix, without normalization')\n",
    "\n",
    "# Plot normalized confusion matrix\n",
    "plot_confusion_matrix(testLabels, y_pred, classes=label_encoder.classes_, normalize=True,\n",
    "                      title='Normalized confusion matrix')\n",
    "\n",
    "plt.show()"
   ]
  },
  {
   "cell_type": "markdown",
   "metadata": {},
   "source": [
    "## 3. Prediction of overall rating <a class=\"anchor\" id=\"third-bullet\"></a>"
   ]
  },
  {
   "cell_type": "code",
   "execution_count": 15,
   "metadata": {},
   "outputs": [
    {
     "name": "stderr",
     "output_type": "stream",
     "text": [
      "C:\\Users\\Michal\\Anaconda3\\lib\\site-packages\\IPython\\core\\interactiveshell.py:3058: DtypeWarning: Columns (11,24) have mixed types. Specify dtype option on import or set low_memory=False.\n",
      "  interactivity=interactivity, compiler=compiler, result=result)\n"
     ]
    }
   ],
   "source": [
    "# Clean the Object values in the data frame, discovered there was \"67 + 3\" in the dataset\n",
    "def clean_values(x):\n",
    "    try:\n",
    "        if len(x)>2:\n",
    "            y = x[:2]\n",
    "            return y\n",
    "        else:\n",
    "            return x\n",
    "    except TypeError:\n",
    "        return x\n",
    "\n",
    "player_attributes_df = pd.read_csv(\"fifa-18-demo-player-dataset/PlayerAttributeData.csv\", index_col=0)\n",
    "player_attributes_df.drop([\"ID\"],1,inplace=True)\n",
    "X = player_attributes_df.copy()\n",
    "\n",
    "for col in X.columns:\n",
    "    X[col] = X[col].apply(lambda x : clean_values(x))\n",
    "for col in X.columns:\n",
    "    X[col] = X[col].astype(float)"
   ]
  },
  {
   "cell_type": "markdown",
   "metadata": {},
   "source": [
    "### Discretisation into 5 classes"
   ]
  },
  {
   "cell_type": "code",
   "execution_count": 16,
   "metadata": {},
   "outputs": [
    {
     "name": "stdout",
     "output_type": "stream",
     "text": [
      "Weak players:  2934\n",
      "Average players:  9290\n",
      "Good players:  5238\n",
      "Stars:  508\n",
      "Legends:  11\n"
     ]
    }
   ],
   "source": [
    "Y = fifa_df[['Overall']].copy()\n",
    "# Y['Preferred Positions'] = Y['Preferred Positions'].str.split().str[0]\n",
    "Y.head()\n",
    "typ = []\n",
    "weak_num = 0\n",
    "average_num = 0\n",
    "good_num = 0\n",
    "star_num = 0\n",
    "legend_num = 0\n",
    "\n",
    "for index, row in Y.iterrows():\n",
    "    if row['Overall'] < 60:\n",
    "        typ.append(\"Weak\")\n",
    "        weak_num += 1\n",
    "    elif row['Overall'] < 70:\n",
    "        typ.append(\"Average\")\n",
    "        average_num += 1\n",
    "    elif row['Overall'] < 80:\n",
    "        typ.append(\"Good\")\n",
    "        good_num += 1\n",
    "    elif row['Overall'] < 90:\n",
    "        typ.append(\"Star\")\n",
    "        star_num += 1\n",
    "    else:\n",
    "        typ.append(\"Legend\")\n",
    "        legend_num += 1\n",
    "Y = {'typ': typ}\n",
    "Y = pd.DataFrame(Y)\n",
    "print(\"Weak players: \", weak_num)\n",
    "print(\"Average players: \", average_num)\n",
    "print(\"Good players: \", good_num)\n",
    "print(\"Stars: \", star_num)\n",
    "print(\"Legends: \", legend_num)"
   ]
  },
  {
   "cell_type": "code",
   "execution_count": 17,
   "metadata": {},
   "outputs": [
    {
     "name": "stdout",
     "output_type": "stream",
     "text": [
      "training data points: 12136\n",
      "validation data points: 1349\n",
      "testing data points: 4496\n"
     ]
    }
   ],
   "source": [
    "from sklearn.model_selection import train_test_split\n",
    "\n",
    "(trainData, testData, trainLabels, testLabels) = train_test_split(X, Y, test_size=0.25, random_state=42)\n",
    "\n",
    "(trainData, valData, trainLabels, valLabels) = train_test_split(trainData, trainLabels, test_size=0.1, random_state=84)\n",
    "\n",
    "print(\"training data points: {}\".format(len(trainLabels)))\n",
    "print(\"validation data points: {}\".format(len(valLabels)))\n",
    "print(\"testing data points: {}\".format(len(testLabels)))"
   ]
  },
  {
   "cell_type": "markdown",
   "metadata": {},
   "source": [
    "### kNN"
   ]
  },
  {
   "cell_type": "code",
   "execution_count": 18,
   "metadata": {},
   "outputs": [
    {
     "name": "stdout",
     "output_type": "stream",
     "text": [
      "k=1, accuracy=81.25%\n",
      "k=3, accuracy=85.25%\n",
      "k=5, accuracy=86.21%\n",
      "k=7, accuracy=86.88%\n",
      "k=9, accuracy=87.25%\n",
      "k=11, accuracy=87.84%\n",
      "k=13, accuracy=87.84%\n",
      "k=15, accuracy=88.21%\n",
      "k=17, accuracy=88.21%\n",
      "k=19, accuracy=88.07%\n",
      "k=21, accuracy=88.21%\n",
      "k=23, accuracy=88.36%\n",
      "k=25, accuracy=88.51%\n",
      "k=27, accuracy=88.21%\n",
      "k=29, accuracy=88.14%\n",
      "k=31, accuracy=87.62%\n",
      "k=33, accuracy=87.25%\n",
      "k=35, accuracy=87.03%\n",
      "k=37, accuracy=86.95%\n",
      "k=39, accuracy=87.47%\n",
      "k=25 achieved highest accuracy of 88.51% on validation data\n"
     ]
    }
   ],
   "source": [
    "from sklearn.neighbors import KNeighborsClassifier\n",
    "\n",
    "kVals = range(1, 40, 2)\n",
    "accuracies = []\n",
    "\n",
    "for k in range(1, 40, 2):\n",
    "    model = KNeighborsClassifier(n_neighbors=k)\n",
    "    model.fit(trainData, trainLabels.values.ravel())\n",
    "\n",
    "    score = model.score(valData, valLabels)\n",
    "    print(\"k=%d, accuracy=%.2f%%\" % (k, score * 100))\n",
    "    accuracies.append(score)\n",
    "\n",
    "i = int(np.argmax(accuracies))\n",
    "print(\"k=%d achieved highest accuracy of %.2f%% on validation data\" % (kVals[i], accuracies[i] * 100))"
   ]
  },
  {
   "cell_type": "code",
   "execution_count": 19,
   "metadata": {},
   "outputs": [
    {
     "name": "stdout",
     "output_type": "stream",
     "text": [
      "0.8674377224199288\n",
      "EVALUATION ON TESTING DATA\n",
      "              precision    recall  f1-score   support\n",
      "\n",
      "     Average       0.86      0.94      0.90      2363\n",
      "        Good       0.86      0.82      0.84      1279\n",
      "      Legend       0.00      0.00      0.00         4\n",
      "        Star       0.88      0.27      0.41       133\n",
      "        Weak       0.90      0.82      0.86       717\n",
      "\n",
      "    accuracy                           0.87      4496\n",
      "   macro avg       0.70      0.57      0.60      4496\n",
      "weighted avg       0.87      0.87      0.86      4496\n",
      "\n"
     ]
    },
    {
     "name": "stderr",
     "output_type": "stream",
     "text": [
      "C:\\Users\\Michal\\Anaconda3\\lib\\site-packages\\sklearn\\metrics\\classification.py:1437: UndefinedMetricWarning: Precision and F-score are ill-defined and being set to 0.0 in labels with no predicted samples.\n",
      "  'precision', 'predicted', average, warn_for)\n"
     ]
    }
   ],
   "source": [
    "# from __future__ import print_function\n",
    "from sklearn.metrics import classification_report\n",
    "\n",
    "model = KNeighborsClassifier(n_neighbors=kVals[i])\n",
    "model.fit(trainData, trainLabels.values.ravel())\n",
    "predictions = model.predict(testData)\n",
    "\n",
    "print(model.score(testData, testLabels))\n",
    "\n",
    "print(\"EVALUATION ON TESTING DATA\")\n",
    "print(classification_report(testLabels, predictions))"
   ]
  },
  {
   "cell_type": "markdown",
   "metadata": {},
   "source": [
    "### ZeroR classifier"
   ]
  },
  {
   "cell_type": "code",
   "execution_count": 20,
   "metadata": {},
   "outputs": [
    {
     "name": "stdout",
     "output_type": "stream",
     "text": [
      "['Average' 'Average' 'Average' ... 'Average' 'Average' 'Average']\n",
      "0.5100074128984433\n"
     ]
    }
   ],
   "source": [
    "from sklearn.dummy import DummyClassifier\n",
    "\n",
    "model = DummyClassifier(strategy='most_frequent', random_state=1)\n",
    "model.fit(trainData, trainLabels.values.ravel())\n",
    "pred = model.predict(testData)\n",
    "print(pred)\n",
    "score = model.score(valData, valLabels)\n",
    "print(score)"
   ]
  },
  {
   "cell_type": "markdown",
   "metadata": {},
   "source": [
    "### Decision tree"
   ]
  },
  {
   "cell_type": "code",
   "execution_count": 21,
   "metadata": {},
   "outputs": [
    {
     "name": "stdout",
     "output_type": "stream",
     "text": [
      "training data points: 13485\n",
      "testing data points: 4496\n"
     ]
    },
    {
     "name": "stderr",
     "output_type": "stream",
     "text": [
      "C:\\Users\\Michal\\Anaconda3\\lib\\site-packages\\sklearn\\preprocessing\\label.py:235: DataConversionWarning: A column-vector y was passed when a 1d array was expected. Please change the shape of y to (n_samples, ), for example using ravel().\n",
      "  y = column_or_1d(y, warn=True)\n"
     ]
    }
   ],
   "source": [
    "from sklearn.model_selection import train_test_split\n",
    "from sklearn.preprocessing import LabelEncoder\n",
    "\n",
    "label_encoder = LabelEncoder()\n",
    "Y = label_encoder.fit_transform(Y)\n",
    "\n",
    "(trainData, testData, trainLabels, testLabels) = train_test_split(X, Y, test_size=0.25, random_state=42)\n",
    "\n",
    "# (trainData, valData, trainLabels, valLabels) = train_test_split(trainData, trainLabels, test_size=0.1, random_state=84)\n",
    "\n",
    "print(\"training data points: {}\".format(len(trainLabels)))\n",
    "# print(\"validation data points: {}\".format(len(valLabels)))\n",
    "print(\"testing data points: {}\".format(len(testLabels)))"
   ]
  },
  {
   "cell_type": "code",
   "execution_count": 22,
   "metadata": {},
   "outputs": [
    {
     "name": "stdout",
     "output_type": "stream",
     "text": [
      "0.8403024911032029\n"
     ]
    }
   ],
   "source": [
    "from sklearn import tree\n",
    "\n",
    "clf = tree.DecisionTreeClassifier()\n",
    "clf.fit(X=trainData, y=trainLabels)\n",
    "clf.feature_importances_ # [ 1.,  0.,  0.]\n",
    "score = clf.score(X=testData, y=testLabels) # 1.0\n",
    "print(score)\n",
    "# tree.export_text(clf)\n",
    "# tree.plot_tree(clf)"
   ]
  },
  {
   "cell_type": "code",
   "execution_count": 23,
   "metadata": {},
   "outputs": [],
   "source": [
    "from graphviz import Source\n",
    "\n",
    "dotfile = open(\"dtree2.dot\", 'w')\n",
    "tree.export_graphviz(clf, out_file = dotfile, feature_names = X.columns)\n",
    "dotfile.close()"
   ]
  },
  {
   "cell_type": "code",
   "execution_count": 24,
   "metadata": {},
   "outputs": [
    {
     "name": "stdout",
     "output_type": "stream",
     "text": [
      "Automatically created module for IPython interactive environment\n",
      "Confusion matrix, without normalization\n",
      "[[2017  173    0    1  172]\n",
      " [ 181 1077    0   21    0]\n",
      " [   0    0    0    4    0]\n",
      " [   0   37    0   96    0]\n",
      " [ 129    0    0    0  588]]\n",
      "Normalized confusion matrix\n",
      "[[8.54e-01 7.32e-02 0.00e+00 4.23e-04 7.28e-02]\n",
      " [1.42e-01 8.42e-01 0.00e+00 1.64e-02 0.00e+00]\n",
      " [0.00e+00 0.00e+00 0.00e+00 1.00e+00 0.00e+00]\n",
      " [0.00e+00 2.78e-01 0.00e+00 7.22e-01 0.00e+00]\n",
      " [1.80e-01 0.00e+00 0.00e+00 0.00e+00 8.20e-01]]\n"
     ]
    },
    {
     "data": {
      "image/png": "[encoded data removed]",
      "text/plain": [
       "<Figure size 1080x1080 with 2 Axes>"
      ]
     },
     "metadata": {
      "needs_background": "light"
     },
     "output_type": "display_data"
    },
    {
     "data": {
      "image/png": "[encoded data removed]",
      "text/plain": [
       "<Figure size 1080x1080 with 2 Axes>"
      ]
     },
     "metadata": {
      "needs_background": "light"
     },
     "output_type": "display_data"
    }
   ],
   "source": [
    "from sklearn.metrics import confusion_matrix\n",
    "from sklearn.utils.multiclass import unique_labels\n",
    "import matplotlib.pyplot as plt\n",
    "print(__doc__)\n",
    "\n",
    "def plot_confusion_matrix(y_true, y_pred, classes,\n",
    "                          normalize=False,\n",
    "                          title=None,\n",
    "                          cmap=plt.cm.Blues):\n",
    "    \"\"\"\n",
    "    This function prints and plots the confusion matrix.\n",
    "    Normalization can be applied by setting `normalize=True`.\n",
    "    \"\"\"\n",
    "    if not title:\n",
    "        if normalize:\n",
    "            title = 'Normalized confusion matrix'\n",
    "        else:\n",
    "            title = 'Confusion matrix, without normalization'\n",
    "\n",
    "    # Compute confusion matrix\n",
    "    cm = confusion_matrix(y_true, y_pred)\n",
    "    # Only use the labels that appear in the data\n",
    "    classes = classes[unique_labels(y_true, y_pred)]\n",
    "    if normalize:\n",
    "        cm = cm.astype('float') / cm.sum(axis=1)[:, np.newaxis]\n",
    "        print(\"Normalized confusion matrix\")\n",
    "    else:\n",
    "        print('Confusion matrix, without normalization')\n",
    "\n",
    "    print(cm)\n",
    "\n",
    "    fig, ax = plt.subplots()\n",
    "    fig.set_figheight(15)\n",
    "    fig.set_figwidth(15)\n",
    "\n",
    "    im = ax.imshow(cm, interpolation='nearest', cmap=cmap)\n",
    "    ax.figure.colorbar(im, ax=ax)\n",
    "    # We want to show all ticks...\n",
    "    ax.set(xticks=np.arange(cm.shape[1]),\n",
    "           yticks=np.arange(cm.shape[0]),\n",
    "           # ... and label them with the respective list entries\n",
    "           xticklabels=classes, yticklabels=classes,\n",
    "           title=title,\n",
    "           ylabel='True label',\n",
    "           xlabel='Predicted label')\n",
    "\n",
    "    # Rotate the tick labels and set their alignment.\n",
    "    plt.setp(ax.get_xticklabels(), rotation=45, ha=\"right\",\n",
    "             rotation_mode=\"anchor\")\n",
    "\n",
    "    # Loop over data dimensions and create text annotations.\n",
    "    fmt = '.2f' if normalize else 'd'\n",
    "    thresh = cm.max() / 2.\n",
    "    for i in range(cm.shape[0]):\n",
    "        for j in range(cm.shape[1]):\n",
    "            ax.text(j, i, format(cm[i, j], fmt),\n",
    "                    ha=\"center\", va=\"center\",\n",
    "                    color=\"white\" if cm[i, j] > thresh else \"black\")\n",
    "    fig.tight_layout()\n",
    "    return ax\n",
    "\n",
    "\n",
    "np.set_printoptions(precision=2)\n",
    "\n",
    "y_pred = clf.fit(X=trainData, y=trainLabels).predict(testData)\n",
    "\n",
    "# Plot non-normalized confusion matrix\n",
    "plot_confusion_matrix(testLabels, y_pred, classes=label_encoder.classes_,\n",
    "                      title='Confusion matrix, without normalization')\n",
    "\n",
    "# Plot normalized confusion matrix\n",
    "plot_confusion_matrix(testLabels, y_pred, classes=label_encoder.classes_, normalize=True,\n",
    "                      title='Normalized confusion matrix')\n",
    "\n",
    "plt.show()"
   ]
  },
  {
   "cell_type": "markdown",
   "metadata": {},
   "source": [
    "## 4. Prediction of market values <a class=\"anchor\" id=\"fourth-bullet\"></a>"
   ]
  },
  {
   "cell_type": "code",
   "execution_count": 25,
   "metadata": {},
   "outputs": [
    {
     "name": "stderr",
     "output_type": "stream",
     "text": [
      "C:\\Users\\Michal\\Anaconda3\\lib\\site-packages\\IPython\\core\\interactiveshell.py:3058: DtypeWarning: Columns (11,24) have mixed types. Specify dtype option on import or set low_memory=False.\n",
      "  interactivity=interactivity, compiler=compiler, result=result)\n"
     ]
    }
   ],
   "source": [
    "# Clean the Object values in the data frame, discovered there was \"67 + 3\" in the dataset\n",
    "def clean_values(x):\n",
    "    try:\n",
    "        if len(x)>2:\n",
    "            y = x[:2]\n",
    "            return y\n",
    "        else:\n",
    "            return x\n",
    "    except TypeError:\n",
    "        return x\n",
    "\n",
    "player_attributes_df = pd.read_csv(\"fifa-18-demo-player-dataset/PlayerAttributeData.csv\", index_col=0)\n",
    "# position_fifa_df.drop([\"Age\", \"Nationality\", \"Overall\", \"Potential\", \"Club\", \"Value\", \"Wage\", \"Special\"],1,inplace=True)\n",
    "player_attributes_df.drop([\"ID\"],1,inplace=True)\n",
    "X = player_attributes_df.copy()\n",
    "\n",
    "for col in X.columns:\n",
    "    X[col] = X[col].apply(lambda x : clean_values(x))\n",
    "for col in X.columns:\n",
    "    X[col] = X[col].astype(float)"
   ]
  },
  {
   "cell_type": "code",
   "execution_count": 26,
   "metadata": {},
   "outputs": [
    {
     "data": {
      "text/html": [
       "<div>\n",
       "<style scoped>\n",
       "    .dataframe tbody tr th:only-of-type {\n",
       "        vertical-align: middle;\n",
       "    }\n",
       "\n",
       "    .dataframe tbody tr th {\n",
       "        vertical-align: top;\n",
       "    }\n",
       "\n",
       "    .dataframe thead th {\n",
       "        text-align: right;\n",
       "    }\n",
       "</style>\n",
       "<table border=\"1\" class=\"dataframe\">\n",
       "  <thead>\n",
       "    <tr style=\"text-align: right;\">\n",
       "      <th></th>\n",
       "      <th>Value</th>\n",
       "    </tr>\n",
       "  </thead>\n",
       "  <tbody>\n",
       "    <tr>\n",
       "      <td>0</td>\n",
       "      <td>95.5</td>\n",
       "    </tr>\n",
       "    <tr>\n",
       "      <td>1</td>\n",
       "      <td>105.0</td>\n",
       "    </tr>\n",
       "    <tr>\n",
       "      <td>2</td>\n",
       "      <td>123.0</td>\n",
       "    </tr>\n",
       "    <tr>\n",
       "      <td>3</td>\n",
       "      <td>97.0</td>\n",
       "    </tr>\n",
       "    <tr>\n",
       "      <td>4</td>\n",
       "      <td>61.0</td>\n",
       "    </tr>\n",
       "  </tbody>\n",
       "</table>\n",
       "</div>"
      ],
      "text/plain": [
       "   Value\n",
       "0   95.5\n",
       "1  105.0\n",
       "2  123.0\n",
       "3   97.0\n",
       "4   61.0"
      ]
     },
     "execution_count": 26,
     "metadata": {},
     "output_type": "execute_result"
    }
   ],
   "source": [
    "Y = fifa_df[['Value']].copy()\n",
    "Y.head()"
   ]
  },
  {
   "cell_type": "code",
   "execution_count": 27,
   "metadata": {},
   "outputs": [
    {
     "name": "stdout",
     "output_type": "stream",
     "text": [
      "training data points: 13485\n",
      "validation data points: 1349\n",
      "testing data points: 4496\n"
     ]
    },
    {
     "name": "stderr",
     "output_type": "stream",
     "text": [
      "C:\\Users\\Michal\\Anaconda3\\lib\\site-packages\\sklearn\\preprocessing\\label.py:235: DataConversionWarning: A column-vector y was passed when a 1d array was expected. Please change the shape of y to (n_samples, ), for example using ravel().\n",
      "  y = column_or_1d(y, warn=True)\n"
     ]
    }
   ],
   "source": [
    "from sklearn.model_selection import train_test_split\n",
    "from sklearn.preprocessing import LabelEncoder\n",
    "\n",
    "label_encoder = LabelEncoder()\n",
    "Y = label_encoder.fit_transform(Y)\n",
    "\n",
    "(trainData, testData, trainLabels, testLabels) = train_test_split(X, Y, test_size=0.25, random_state=42)\n",
    "\n",
    "# (trainData, valData, trainLabels, valLabels) = train_test_split(trainData, trainLabels, test_size=0.1, random_state=84)\n",
    "\n",
    "print(\"training data points: {}\".format(len(trainLabels)))\n",
    "print(\"validation data points: {}\".format(len(valLabels)))\n",
    "print(\"testing data points: {}\".format(len(testLabels)))"
   ]
  },
  {
   "cell_type": "markdown",
   "metadata": {},
   "source": [
    "### Neural Network - 1. approach"
   ]
  },
  {
   "cell_type": "code",
   "execution_count": 28,
   "metadata": {},
   "outputs": [
    {
     "name": "stderr",
     "output_type": "stream",
     "text": [
      "C:\\Users\\Michal\\Anaconda3\\lib\\site-packages\\sklearn\\neural_network\\multilayer_perceptron.py:566: ConvergenceWarning: Stochastic Optimizer: Maximum iterations (1) reached and the optimization hasn't converged yet.\n",
      "  % self.max_iter, ConvergenceWarning)\n"
     ]
    },
    {
     "name": "stdout",
     "output_type": "stream",
     "text": [
      "iter 0 \taccuracy -0.06913889422225439 \test -0.07050002958846213 \tloss 3590.7319900305197\n",
      "iter 50 \taccuracy 0.24649616517367065 \test 0.20886462696224428 \tloss 2151.1858911746917\n",
      "iter 100 \taccuracy 0.30730844005098024 \test 0.2525219059526216 \tloss 1993.685594320778\n",
      "iter 150 \taccuracy 0.34396407259423045 \test 0.2648072156910314 \tloss 1894.473035411402\n",
      "iter 200 \taccuracy 0.3799962016708198 \test 0.2760588858008115 \tloss 1787.4367091765694\n",
      "iter 250 \taccuracy 0.4094647033723533 \test 0.29119084026550324 \tloss 1691.339918762361\n",
      "iter 300 \taccuracy 0.4346356539868038 \test 0.29954288751849156 \tloss 1591.7181143637242\n",
      "iter 350 \taccuracy 0.4566869609781717 \test 0.31321107542495996 \tloss 1594.660565209859\n",
      "iter 400 \taccuracy 0.4822627591269342 \test 0.341747472591037 \tloss 1459.7722045969078\n",
      "iter 450 \taccuracy 0.48754065653533546 \test 0.3540840874230837 \tloss 1400.5348121971679\n",
      "iter 500 \taccuracy 0.49932263759768697 \test 0.3589194338187749 \tloss 1355.2692458346194\n",
      "iter 550 \taccuracy 0.5060390629296151 \test 0.35974179063872047 \tloss 1310.280937704432\n",
      "iter 600 \taccuracy 0.5046283176527484 \test 0.35035122069399577 \tloss 1270.9798836252255\n",
      "iter 650 \taccuracy 0.5399376106745195 \test 0.3671231216645587 \tloss 1221.0856359187205\n",
      "iter 700 \taccuracy 0.5237952321279025 \test 0.35152711249190716 \tloss 1191.6756170355725\n",
      "iter 750 \taccuracy 0.5637349170269242 \test 0.3587038506885254 \tloss 1150.3593435996395\n",
      "iter 800 \taccuracy 0.569843252794632 \test 0.34322443200553515 \tloss 1168.5255238081352\n",
      "iter 850 \taccuracy 0.568136469385602 \test 0.34532563644245684 \tloss 1221.0360781690033\n",
      "iter 900 \taccuracy 0.5277882503663776 \test 0.3387718974987436 \tloss 1056.7224996346358\n",
      "iter 950 \taccuracy 0.5491711908712096 \test 0.35249681187877174 \tloss 1057.670383820492\n",
      "iter 1000 \taccuracy 0.5784948962996742 \test 0.3722469453637487 \tloss 1091.3157607738467\n",
      "iter 1050 \taccuracy 0.6007212182120978 \test 0.3814784209909502 \tloss 1175.6481654346815\n",
      "iter 1100 \taccuracy 0.5853011988979061 \test 0.38227673047778177 \tloss 977.771896793512\n",
      "iter 1150 \taccuracy 0.6098204854691212 \test 0.3761832570763802 \tloss 1013.7384353295156\n",
      "iter 1200 \taccuracy 0.6170804897147795 \test 0.3813480025870156 \tloss 968.7351916857601\n",
      "iter 1250 \taccuracy 0.5694497817860433 \test 0.36293667340764 \tloss 909.6188957242774\n",
      "iter 1300 \taccuracy 0.6155847922531996 \test 0.3742692961284766 \tloss 876.6797539577896\n",
      "iter 1350 \taccuracy 0.5923510848970507 \test 0.3564613472498534 \tloss 875.3691589324502\n",
      "iter 1400 \taccuracy 0.6510029213401499 \test 0.3796066642812549 \tloss 901.379744149216\n",
      "iter 1450 \taccuracy 0.638495666588585 \test 0.3651360229241719 \tloss 1045.6407646220543\n",
      "iter 1500 \taccuracy 0.6454824065987216 \test 0.36658355586246505 \tloss 845.0580263428981\n",
      "iter 1550 \taccuracy 0.6650500830564496 \test 0.37970566476533596 \tloss 892.2626853886775\n",
      "iter 1600 \taccuracy 0.6305925903483456 \test 0.36031677235392895 \tloss 781.2362551362604\n",
      "iter 1650 \taccuracy 0.5482177205925888 \test 0.3065032988046348 \tloss 742.3148288790231\n",
      "iter 1700 \taccuracy 0.677674488974917 \test 0.3755269682004945 \tloss 960.0596783136843\n",
      "iter 1750 \taccuracy 0.6551843272151248 \test 0.3680865103864993 \tloss 758.6342056579565\n",
      "iter 1800 \taccuracy 0.6649981605222476 \test 0.38411141104572005 \tloss 859.4111791910337\n",
      "iter 1850 \taccuracy 0.5935271847608741 \test 0.3438114126644416 \tloss 768.4088848063152\n",
      "iter 1900 \taccuracy 0.5732152867423996 \test 0.3131723040272685 \tloss 693.1001519775596\n",
      "iter 1950 \taccuracy 0.6714763053776505 \test 0.367928551916468 \tloss 832.5789941815258\n",
      "0.37124976101492413\n"
     ]
    },
    {
     "data": {
      "text/plain": [
       "[<matplotlib.lines.Line2D at 0x2037adb4dc8>,\n",
       " <matplotlib.lines.Line2D at 0x2037adb5a88>]"
      ]
     },
     "execution_count": 28,
     "metadata": {},
     "output_type": "execute_result"
    },
    {
     "data": {
      "image/png": "[encoded data removed]",
      "text/plain": [
       "<Figure size 432x288 with 1 Axes>"
      ]
     },
     "metadata": {
      "needs_background": "light"
     },
     "output_type": "display_data"
    }
   ],
   "source": [
    "from sklearn.neural_network import MLPRegressor\n",
    "\n",
    "clf = MLPRegressor(hidden_layer_sizes=(40,40,40), random_state=1, alpha=0.01, max_iter=1, warm_start=True)\n",
    "licz=[]\n",
    "accu=[]\n",
    "loss=[]\n",
    "test=[]\n",
    "for i in range(2000):\n",
    "    clf.fit(trainData, trainLabels)\n",
    "    licz.append(i)\n",
    "    accu.append(clf.score(trainData, trainLabels))\n",
    "    loss.append(clf.loss_)\n",
    "    test.append(clf.score(X=testData, y=testLabels))\n",
    "    if i%50==0: #display progres, every 50 epochs\n",
    "        print(\"iter\",i,\"\\taccuracy\",clf.score(trainData, trainLabels),\"\\test\",clf.score(X=testData, y=testLabels),\"\\tloss\",clf.loss_)\n",
    "import matplotlib.pyplot as plt\n",
    "print(clf.score(X=testData, y=testLabels))\n",
    "plt.plot(licz[5:],accu[5:], test[5:])"
   ]
  },
  {
   "cell_type": "code",
   "execution_count": 29,
   "metadata": {},
   "outputs": [
    {
     "name": "stdout",
     "output_type": "stream",
     "text": [
      "[83.14]\n",
      "[128.17]\n",
      "[127.52]\n"
     ]
    }
   ],
   "source": [
    "lewandowski = X.iloc[[5]]\n",
    "ronaldo = X.iloc[[0]]\n",
    "messi = X.iloc[[1]]\n",
    "print(clf.predict(lewandowski))\n",
    "print(clf.predict(ronaldo))\n",
    "print(clf.predict(messi))"
   ]
  },
  {
   "cell_type": "markdown",
   "metadata": {},
   "source": [
    "### Neural Network - 2. approach"
   ]
  },
  {
   "cell_type": "markdown",
   "metadata": {},
   "source": [
    "#### Preprocessing"
   ]
  },
  {
   "cell_type": "code",
   "execution_count": 30,
   "metadata": {},
   "outputs": [
    {
     "name": "stdout",
     "output_type": "stream",
     "text": [
      "               Name  Age                                            Photo  \\\n",
      "9257  G. Wojtkowiak   33  https://cdn.sofifa.org/48/18/players/152950.png   \n",
      "\n",
      "     Nationality                                 Flag  Overall  Potential  \\\n",
      "9257      Poland  https://cdn.sofifa.org/flags/37.png       66         66   \n",
      "\n",
      "               Club                                      Club Logo  Value  \\\n",
      "9257  Lechia Gdańsk  https://cdn.sofifa.org/24/18/teams/111091.png  €250K   \n",
      "\n",
      "      ...    RB   RCB   RCM   RDM    RF    RM    RS    RW   RWB    ST  \n",
      "9257  ...  65.0  66.0  58.0  64.0  52.0  56.0  52.0  54.0  65.0  52.0  \n",
      "\n",
      "[1 rows x 74 columns]\n",
      "             Name  Age                                            Photo  \\\n",
      "5  R. Lewandowski   28  https://cdn.sofifa.org/48/18/players/188545.png   \n",
      "\n",
      "  Nationality                                 Flag  Overall  Potential  \\\n",
      "5      Poland  https://cdn.sofifa.org/flags/37.png       91         91   \n",
      "\n",
      "               Club                                  Club Logo Value  ...  \\\n",
      "5  FC Bayern Munich  https://cdn.sofifa.org/24/18/teams/21.png  €92M  ...   \n",
      "\n",
      "     RB   RCB   RCM   RDM    RF    RM    RS    RW   RWB    ST  \n",
      "5  58.0  57.0  78.0  62.0  87.0  82.0  88.0  84.0  61.0  88.0  \n",
      "\n",
      "[1 rows x 74 columns]\n"
     ]
    },
    {
     "name": "stderr",
     "output_type": "stream",
     "text": [
      "C:\\Users\\Michal\\Anaconda3\\lib\\site-packages\\IPython\\core\\interactiveshell.py:3058: DtypeWarning: Columns (23,35) have mixed types. Specify dtype option on import or set low_memory=False.\n",
      "  interactivity=interactivity, compiler=compiler, result=result)\n"
     ]
    }
   ],
   "source": [
    "import numpy as np\n",
    "import pandas as pd\n",
    "\n",
    "K_number = 0\n",
    "M_number = 0\n",
    "inne = 0\n",
    "def convert_to_int(x):\n",
    "    remove = \"K€M\"\n",
    "    isK = False\n",
    "    isM = False\n",
    "    if 'K' in x:\n",
    "        isK = True\n",
    "    elif 'M' in x:\n",
    "        isM = True\n",
    "    for i in remove:\n",
    "        x = x.replace(i,\"\")\n",
    "    if isK:\n",
    "        return float(x) * 1000\n",
    "    if isM:\n",
    "        return float(x) * 1000000\n",
    "    return float(x)\n",
    "\n",
    "fifa_df = pd.read_csv(\"fifa-18-demo-player-dataset/CompleteDataset.csv\", index_col=0)\n",
    "\n",
    "print(fifa_df.loc[fifa_df['Name'] == 'G. Wojtkowiak'])\n",
    "print(fifa_df.loc[fifa_df['Name'] == 'R. Lewandowski'])"
   ]
  },
  {
   "cell_type": "code",
   "execution_count": 31,
   "metadata": {},
   "outputs": [
    {
     "name": "stdout",
     "output_type": "stream",
     "text": [
      "0 0 0\n",
      "               Name  Age Nationality  Overall  Potential           Club  \\\n",
      "9257  G. Wojtkowiak   33      Poland       66         66  Lechia Gdańsk   \n",
      "\n",
      "         Value    Wage  Special Acceleration  ...    RB   RCB   RCM   RDM  \\\n",
      "9257  250000.0  3000.0     1658           65  ...  65.0  66.0  58.0  64.0   \n",
      "\n",
      "        RF    RM    RS    RW   RWB    ST  \n",
      "9257  52.0  56.0  52.0  54.0  65.0  52.0  \n",
      "\n",
      "[1 rows x 70 columns]\n",
      "             Name  Age Nationality  Overall  Potential              Club  \\\n",
      "5  R. Lewandowski   28      Poland       91         91  FC Bayern Munich   \n",
      "\n",
      "        Value      Wage  Special Acceleration  ...    RB   RCB   RCM   RDM  \\\n",
      "5  92000000.0  355000.0     2143           79  ...  58.0  57.0  78.0  62.0   \n",
      "\n",
      "     RF    RM    RS    RW   RWB    ST  \n",
      "5  87.0  82.0  88.0  84.0  61.0  88.0  \n",
      "\n",
      "[1 rows x 70 columns]\n"
     ]
    }
   ],
   "source": [
    "#Converted the value and wage column into integer\n",
    "fifa_df[\"Wage\"] = fifa_df[\"Wage\"].apply(lambda x: convert_to_int(x))\n",
    "fifa_df[\"Value\"] = fifa_df[\"Value\"].apply(lambda x: convert_to_int(x))\n",
    "fifa_df[[\"Value\",\"Wage\"]] = fifa_df[[\"Value\",\"Wage\"]].astype(float)\n",
    "\n",
    "fifa_df.drop([\"Photo\", \"Flag\",\"Club Logo\",\"ID\"],1,inplace=True)\n",
    "fifa_df.head()\n",
    "fifa_df.columns\n",
    "\n",
    "print(K_number, M_number, inne)\n",
    "print(fifa_df.loc[fifa_df['Name'] == 'G. Wojtkowiak'])\n",
    "print(fifa_df.loc[fifa_df['Name'] == 'R. Lewandowski'])"
   ]
  },
  {
   "cell_type": "code",
   "execution_count": 32,
   "metadata": {},
   "outputs": [
    {
     "name": "stderr",
     "output_type": "stream",
     "text": [
      "C:\\Users\\Michal\\Anaconda3\\lib\\site-packages\\IPython\\core\\interactiveshell.py:3058: DtypeWarning: Columns (11,24) have mixed types. Specify dtype option on import or set low_memory=False.\n",
      "  interactivity=interactivity, compiler=compiler, result=result)\n"
     ]
    },
    {
     "name": "stdout",
     "output_type": "stream",
     "text": [
      "17981\n"
     ]
    }
   ],
   "source": [
    "# Clean the Object values in the data frame, discovered there was \"67 + 3\" in the dataset\n",
    "def clean_values(x):\n",
    "    try:\n",
    "        if len(x)>2:\n",
    "            y = x[:2]\n",
    "            return y\n",
    "        else:\n",
    "            return x\n",
    "    except TypeError:\n",
    "        return x\n",
    "\n",
    "player_attributes_df = pd.read_csv(\"fifa-18-demo-player-dataset/PlayerAttributeData.csv\", index_col=0)\n",
    "# position_fifa_df.drop([\"Age\", \"Nationality\", \"Overall\", \"Potential\", \"Club\", \"Value\", \"Wage\", \"Special\"],1,inplace=True)\n",
    "player_attributes_df.drop([\"ID\"],1,inplace=True)\n",
    "X = player_attributes_df.copy()\n",
    "\n",
    "for col in X.columns:\n",
    "    X[col] = X[col].apply(lambda x : clean_values(x))\n",
    "for col in X.columns:\n",
    "    X[col] = X[col].astype(float)\n",
    "print(len(X.index))"
   ]
  },
  {
   "cell_type": "markdown",
   "metadata": {},
   "source": [
    "Removing players with very low value - outliers"
   ]
  },
  {
   "cell_type": "code",
   "execution_count": 33,
   "metadata": {},
   "outputs": [
    {
     "name": "stdout",
     "output_type": "stream",
     "text": [
      "Minimal value:  10000.0\n",
      "Removing  256  players\n",
      "17725\n"
     ]
    },
    {
     "data": {
      "text/html": [
       "<div>\n",
       "<style scoped>\n",
       "    .dataframe tbody tr th:only-of-type {\n",
       "        vertical-align: middle;\n",
       "    }\n",
       "\n",
       "    .dataframe tbody tr th {\n",
       "        vertical-align: top;\n",
       "    }\n",
       "\n",
       "    .dataframe thead th {\n",
       "        text-align: right;\n",
       "    }\n",
       "</style>\n",
       "<table border=\"1\" class=\"dataframe\">\n",
       "  <thead>\n",
       "    <tr style=\"text-align: right;\">\n",
       "      <th></th>\n",
       "      <th>Name</th>\n",
       "      <th>Age</th>\n",
       "      <th>Nationality</th>\n",
       "      <th>Overall</th>\n",
       "      <th>Potential</th>\n",
       "      <th>Club</th>\n",
       "      <th>Value</th>\n",
       "      <th>Wage</th>\n",
       "      <th>Special</th>\n",
       "      <th>Acceleration</th>\n",
       "      <th>...</th>\n",
       "      <th>RB</th>\n",
       "      <th>RCB</th>\n",
       "      <th>RCM</th>\n",
       "      <th>RDM</th>\n",
       "      <th>RF</th>\n",
       "      <th>RM</th>\n",
       "      <th>RS</th>\n",
       "      <th>RW</th>\n",
       "      <th>RWB</th>\n",
       "      <th>ST</th>\n",
       "    </tr>\n",
       "  </thead>\n",
       "  <tbody>\n",
       "    <tr>\n",
       "      <td>17975</td>\n",
       "      <td>T. Käßemodel</td>\n",
       "      <td>28</td>\n",
       "      <td>Germany</td>\n",
       "      <td>46</td>\n",
       "      <td>46</td>\n",
       "      <td>FC Erzgebirge Aue</td>\n",
       "      <td>30000.0</td>\n",
       "      <td>1000.0</td>\n",
       "      <td>1174</td>\n",
       "      <td>25</td>\n",
       "      <td>...</td>\n",
       "      <td>37.0</td>\n",
       "      <td>38.0</td>\n",
       "      <td>45.0</td>\n",
       "      <td>42.0</td>\n",
       "      <td>42.0</td>\n",
       "      <td>42.0</td>\n",
       "      <td>41.0</td>\n",
       "      <td>41.0</td>\n",
       "      <td>38.0</td>\n",
       "      <td>41.0</td>\n",
       "    </tr>\n",
       "    <tr>\n",
       "      <td>17976</td>\n",
       "      <td>A. Kelsey</td>\n",
       "      <td>17</td>\n",
       "      <td>England</td>\n",
       "      <td>46</td>\n",
       "      <td>63</td>\n",
       "      <td>Scunthorpe United</td>\n",
       "      <td>50000.0</td>\n",
       "      <td>1000.0</td>\n",
       "      <td>755</td>\n",
       "      <td>24</td>\n",
       "      <td>...</td>\n",
       "      <td>NaN</td>\n",
       "      <td>NaN</td>\n",
       "      <td>NaN</td>\n",
       "      <td>NaN</td>\n",
       "      <td>NaN</td>\n",
       "      <td>NaN</td>\n",
       "      <td>NaN</td>\n",
       "      <td>NaN</td>\n",
       "      <td>NaN</td>\n",
       "      <td>NaN</td>\n",
       "    </tr>\n",
       "    <tr>\n",
       "      <td>17978</td>\n",
       "      <td>J. Young</td>\n",
       "      <td>17</td>\n",
       "      <td>Scotland</td>\n",
       "      <td>46</td>\n",
       "      <td>61</td>\n",
       "      <td>Swindon Town</td>\n",
       "      <td>60000.0</td>\n",
       "      <td>1000.0</td>\n",
       "      <td>1194</td>\n",
       "      <td>66</td>\n",
       "      <td>...</td>\n",
       "      <td>31.0</td>\n",
       "      <td>28.0</td>\n",
       "      <td>38.0</td>\n",
       "      <td>29.0</td>\n",
       "      <td>45.0</td>\n",
       "      <td>42.0</td>\n",
       "      <td>45.0</td>\n",
       "      <td>44.0</td>\n",
       "      <td>32.0</td>\n",
       "      <td>45.0</td>\n",
       "    </tr>\n",
       "    <tr>\n",
       "      <td>17979</td>\n",
       "      <td>J. Lundstram</td>\n",
       "      <td>18</td>\n",
       "      <td>England</td>\n",
       "      <td>46</td>\n",
       "      <td>64</td>\n",
       "      <td>Crewe Alexandra</td>\n",
       "      <td>60000.0</td>\n",
       "      <td>1000.0</td>\n",
       "      <td>1302</td>\n",
       "      <td>57</td>\n",
       "      <td>...</td>\n",
       "      <td>47.0</td>\n",
       "      <td>46.0</td>\n",
       "      <td>45.0</td>\n",
       "      <td>47.0</td>\n",
       "      <td>43.0</td>\n",
       "      <td>45.0</td>\n",
       "      <td>41.0</td>\n",
       "      <td>44.0</td>\n",
       "      <td>46.0</td>\n",
       "      <td>41.0</td>\n",
       "    </tr>\n",
       "    <tr>\n",
       "      <td>17980</td>\n",
       "      <td>L. Sackey</td>\n",
       "      <td>18</td>\n",
       "      <td>Ghana</td>\n",
       "      <td>46</td>\n",
       "      <td>64</td>\n",
       "      <td>Scunthorpe United</td>\n",
       "      <td>50000.0</td>\n",
       "      <td>1000.0</td>\n",
       "      <td>1031</td>\n",
       "      <td>48</td>\n",
       "      <td>...</td>\n",
       "      <td>40.0</td>\n",
       "      <td>45.0</td>\n",
       "      <td>30.0</td>\n",
       "      <td>38.0</td>\n",
       "      <td>29.0</td>\n",
       "      <td>30.0</td>\n",
       "      <td>31.0</td>\n",
       "      <td>29.0</td>\n",
       "      <td>38.0</td>\n",
       "      <td>31.0</td>\n",
       "    </tr>\n",
       "  </tbody>\n",
       "</table>\n",
       "<p>5 rows × 70 columns</p>\n",
       "</div>"
      ],
      "text/plain": [
       "               Name  Age Nationality  Overall  Potential               Club  \\\n",
       "17975  T. Käßemodel   28     Germany       46         46  FC Erzgebirge Aue   \n",
       "17976     A. Kelsey   17     England       46         63  Scunthorpe United   \n",
       "17978      J. Young   17    Scotland       46         61       Swindon Town   \n",
       "17979  J. Lundstram   18     England       46         64    Crewe Alexandra   \n",
       "17980     L. Sackey   18       Ghana       46         64  Scunthorpe United   \n",
       "\n",
       "         Value    Wage  Special Acceleration  ...    RB   RCB   RCM   RDM  \\\n",
       "17975  30000.0  1000.0     1174           25  ...  37.0  38.0  45.0  42.0   \n",
       "17976  50000.0  1000.0      755           24  ...   NaN   NaN   NaN   NaN   \n",
       "17978  60000.0  1000.0     1194           66  ...  31.0  28.0  38.0  29.0   \n",
       "17979  60000.0  1000.0     1302           57  ...  47.0  46.0  45.0  47.0   \n",
       "17980  50000.0  1000.0     1031           48  ...  40.0  45.0  30.0  38.0   \n",
       "\n",
       "         RF    RM    RS    RW   RWB    ST  \n",
       "17975  42.0  42.0  41.0  41.0  38.0  41.0  \n",
       "17976   NaN   NaN   NaN   NaN   NaN   NaN  \n",
       "17978  45.0  42.0  45.0  44.0  32.0  45.0  \n",
       "17979  43.0  45.0  41.0  44.0  46.0  41.0  \n",
       "17980  29.0  30.0  31.0  29.0  38.0  31.0  \n",
       "\n",
       "[5 rows x 70 columns]"
      ]
     },
     "execution_count": 33,
     "metadata": {},
     "output_type": "execute_result"
    }
   ],
   "source": [
    "fifa = fifa_df.copy()\n",
    "n_removing = 0\n",
    "for index, row in fifa.iterrows():\n",
    "    if row['Value'] <= 1000.0:\n",
    "        fifa = fifa.drop([index], axis=0)\n",
    "        X = X.drop([index], axis=0)\n",
    "        n_removing += 1\n",
    "        \n",
    "print(\"Minimal value: \", min(fifa['Value']))\n",
    "print(\"Removing \", n_removing, \" players\")\n",
    "print( len(X.index))\n",
    "fifa.tail()"
   ]
  },
  {
   "cell_type": "code",
   "execution_count": 34,
   "metadata": {},
   "outputs": [
    {
     "name": "stdout",
     "output_type": "stream",
     "text": [
      "17725\n"
     ]
    },
    {
     "data": {
      "text/html": [
       "<div>\n",
       "<style scoped>\n",
       "    .dataframe tbody tr th:only-of-type {\n",
       "        vertical-align: middle;\n",
       "    }\n",
       "\n",
       "    .dataframe tbody tr th {\n",
       "        vertical-align: top;\n",
       "    }\n",
       "\n",
       "    .dataframe thead th {\n",
       "        text-align: right;\n",
       "    }\n",
       "</style>\n",
       "<table border=\"1\" class=\"dataframe\">\n",
       "  <thead>\n",
       "    <tr style=\"text-align: right;\">\n",
       "      <th></th>\n",
       "      <th>Value</th>\n",
       "    </tr>\n",
       "  </thead>\n",
       "  <tbody>\n",
       "    <tr>\n",
       "      <td>0</td>\n",
       "      <td>95500000.0</td>\n",
       "    </tr>\n",
       "    <tr>\n",
       "      <td>1</td>\n",
       "      <td>105000000.0</td>\n",
       "    </tr>\n",
       "    <tr>\n",
       "      <td>2</td>\n",
       "      <td>123000000.0</td>\n",
       "    </tr>\n",
       "    <tr>\n",
       "      <td>3</td>\n",
       "      <td>97000000.0</td>\n",
       "    </tr>\n",
       "    <tr>\n",
       "      <td>4</td>\n",
       "      <td>61000000.0</td>\n",
       "    </tr>\n",
       "  </tbody>\n",
       "</table>\n",
       "</div>"
      ],
      "text/plain": [
       "         Value\n",
       "0   95500000.0\n",
       "1  105000000.0\n",
       "2  123000000.0\n",
       "3   97000000.0\n",
       "4   61000000.0"
      ]
     },
     "execution_count": 34,
     "metadata": {},
     "output_type": "execute_result"
    }
   ],
   "source": [
    "Y = fifa[['Value']].copy()\n",
    "print(len(Y.index))\n",
    "Y.head()"
   ]
  },
  {
   "cell_type": "markdown",
   "metadata": {},
   "source": [
    "Normalization"
   ]
  },
  {
   "cell_type": "code",
   "execution_count": 35,
   "metadata": {},
   "outputs": [
    {
     "name": "stdout",
     "output_type": "stream",
     "text": [
      "1.4044161539719074e-14\n",
      "Value    1.0\n",
      "dtype: float64\n"
     ]
    },
    {
     "data": {
      "text/html": [
       "<div>\n",
       "<style scoped>\n",
       "    .dataframe tbody tr th:only-of-type {\n",
       "        vertical-align: middle;\n",
       "    }\n",
       "\n",
       "    .dataframe tbody tr th {\n",
       "        vertical-align: top;\n",
       "    }\n",
       "\n",
       "    .dataframe thead th {\n",
       "        text-align: right;\n",
       "    }\n",
       "</style>\n",
       "<table border=\"1\" class=\"dataframe\">\n",
       "  <thead>\n",
       "    <tr style=\"text-align: right;\">\n",
       "      <th></th>\n",
       "      <th>Value</th>\n",
       "    </tr>\n",
       "  </thead>\n",
       "  <tbody>\n",
       "    <tr>\n",
       "      <td>0</td>\n",
       "      <td>17.285848</td>\n",
       "    </tr>\n",
       "    <tr>\n",
       "      <td>1</td>\n",
       "      <td>19.050086</td>\n",
       "    </tr>\n",
       "    <tr>\n",
       "      <td>2</td>\n",
       "      <td>22.392853</td>\n",
       "    </tr>\n",
       "    <tr>\n",
       "      <td>3</td>\n",
       "      <td>17.564412</td>\n",
       "    </tr>\n",
       "    <tr>\n",
       "      <td>4</td>\n",
       "      <td>10.878878</td>\n",
       "    </tr>\n",
       "  </tbody>\n",
       "</table>\n",
       "</div>"
      ],
      "text/plain": [
       "       Value\n",
       "0  17.285848\n",
       "1  19.050086\n",
       "2  22.392853\n",
       "3  17.564412\n",
       "4  10.878878"
      ]
     },
     "execution_count": 35,
     "metadata": {},
     "output_type": "execute_result"
    }
   ],
   "source": [
    "Y_norm=(Y-Y.mean())/Y.std()\n",
    "Y = Y_norm\n",
    "print(Y.mean()[0])\n",
    "print(Y.std())\n",
    "Y.head()"
   ]
  },
  {
   "cell_type": "code",
   "execution_count": 36,
   "metadata": {},
   "outputs": [
    {
     "name": "stdout",
     "output_type": "stream",
     "text": [
      "training data points: 13293\n",
      "testing data points: 4432\n"
     ]
    },
    {
     "name": "stderr",
     "output_type": "stream",
     "text": [
      "C:\\Users\\Michal\\Anaconda3\\lib\\site-packages\\sklearn\\preprocessing\\label.py:235: DataConversionWarning: A column-vector y was passed when a 1d array was expected. Please change the shape of y to (n_samples, ), for example using ravel().\n",
      "  y = column_or_1d(y, warn=True)\n"
     ]
    }
   ],
   "source": [
    "from sklearn.model_selection import train_test_split\n",
    "from sklearn.preprocessing import LabelEncoder\n",
    "\n",
    "label_encoder = LabelEncoder()\n",
    "Y = label_encoder.fit_transform(Y)\n",
    "\n",
    "(trainData, testData, trainLabels, testLabels) = train_test_split(X, Y, test_size=0.25, random_state=42)\n",
    "\n",
    "# (trainData, valData, trainLabels, valLabels) = train_test_split(trainData, trainLabels, test_size=0.1, random_state=84)\n",
    "\n",
    "print(\"training data points: {}\".format(len(trainLabels)))\n",
    "# print(\"validation data points: {}\".format(len(valLabels)))\n",
    "print(\"testing data points: {}\".format(len(testLabels)))"
   ]
  },
  {
   "cell_type": "code",
   "execution_count": 37,
   "metadata": {
    "scrolled": false
   },
   "outputs": [
    {
     "name": "stdout",
     "output_type": "stream",
     "text": [
      "iter 0 \taccuracy 0.511943517803857 \test 0.5120601603696675 \tloss 360.23859158894254\n"
     ]
    },
    {
     "name": "stderr",
     "output_type": "stream",
     "text": [
      "C:\\Users\\Michal\\Anaconda3\\lib\\site-packages\\sklearn\\neural_network\\multilayer_perceptron.py:566: ConvergenceWarning: Stochastic Optimizer: Maximum iterations (1) reached and the optimization hasn't converged yet.\n",
      "  % self.max_iter, ConvergenceWarning)\n"
     ]
    },
    {
     "name": "stdout",
     "output_type": "stream",
     "text": [
      "iter 50 \taccuracy 0.7601119351036745 \test 0.7325943079712622 \tloss 129.17438969571657\n",
      "iter 100 \taccuracy 0.8235132942896962 \test 0.7880427924586693 \tloss 102.60460238121266\n",
      "iter 150 \taccuracy 0.8846774624664834 \test 0.8534081995179265 \tloss 68.40937374792486\n",
      "iter 200 \taccuracy 0.9042734431520698 \test 0.8776077877385209 \tloss 66.5114540934343\n",
      "iter 250 \taccuracy 0.915011161864605 \test 0.8972054907949447 \tloss 64.45153152056784\n",
      "iter 300 \taccuracy 0.9234315933073826 \test 0.9035928153292117 \tloss 57.39925042638885\n",
      "iter 350 \taccuracy 0.9123284806682309 \test 0.890828465810925 \tloss 45.61396348042926\n",
      "iter 400 \taccuracy 0.925255567254203 \test 0.907290543801509 \tloss 51.46138872012626\n",
      "iter 450 \taccuracy 0.9250982471523599 \test 0.9085523286298615 \tloss 53.581023601549504\n",
      "iter 500 \taccuracy 0.9257736746230502 \test 0.9080980607759928 \tloss 54.745058650097334\n",
      "iter 550 \taccuracy 0.9234587233439707 \test 0.906483176205779 \tloss 66.24764851610041\n",
      "iter 600 \taccuracy 0.9275224474285912 \test 0.9114830183148979 \tloss 44.35218968181204\n",
      "iter 650 \taccuracy 0.9278784772603391 \test 0.9108359259950898 \tloss 45.358814763685615\n",
      "iter 700 \taccuracy 0.926630701024379 \test 0.9111619331891188 \tloss 48.21864989040097\n",
      "iter 750 \taccuracy 0.9288082446996198 \test 0.9127812262485907 \tloss 48.69811197747156\n",
      "iter 800 \taccuracy 0.9247812179968513 \test 0.9089318463460053 \tloss 48.430515956200765\n",
      "iter 850 \taccuracy 0.9292146125378109 \test 0.9145094578320504 \tloss 46.282378484451485\n",
      "iter 900 \taccuracy 0.9257633701087056 \test 0.9114256608393128 \tloss 47.04543937361753\n",
      "iter 950 \taccuracy 0.9270375143034194 \test 0.9117989305821821 \tloss 45.96452548189849\n",
      "iter 1000 \taccuracy 0.9230599368759789 \test 0.9084887363455151 \tloss 45.880353456885\n",
      "iter 1050 \taccuracy 0.9306300069817143 \test 0.916282596114326 \tloss 54.84110014230856\n",
      "iter 1100 \taccuracy 0.9250637885435328 \test 0.9103841874156762 \tloss 45.883466013617664\n",
      "iter 1150 \taccuracy 0.9314019406976969 \test 0.9176279638077951 \tloss 50.34590373599972\n",
      "iter 1200 \taccuracy 0.9315827854441819 \test 0.9172846314510396 \tloss 46.14550869938753\n",
      "iter 1250 \taccuracy 0.9296391975990327 \test 0.9158516696857343 \tloss 43.94841356852445\n",
      "iter 1300 \taccuracy 0.928292929911734 \test 0.91388243609251 \tloss 43.69994654572535\n",
      "iter 1350 \taccuracy 0.9308635449167582 \test 0.9164773095904372 \tloss 41.60897456183113\n",
      "iter 1400 \taccuracy 0.9298216734200948 \test 0.9159212263134916 \tloss 39.79391417577274\n",
      "iter 1450 \taccuracy 0.9293204774339658 \test 0.9153643425950914 \tloss 38.38905199690412\n",
      "0.9174684729782618\n"
     ]
    },
    {
     "data": {
      "text/plain": [
       "[<matplotlib.lines.Line2D at 0x203774e31c8>,\n",
       " <matplotlib.lines.Line2D at 0x203774c1508>]"
      ]
     },
     "execution_count": 37,
     "metadata": {},
     "output_type": "execute_result"
    },
    {
     "data": {
      "image/png": "[encoded data removed]",
      "text/plain": [
       "<Figure size 432x288 with 1 Axes>"
      ]
     },
     "metadata": {
      "needs_background": "light"
     },
     "output_type": "display_data"
    }
   ],
   "source": [
    "# 40-40-40   alpha,4k   ?25,25,15,10,5    25,25,15,10,5,5(0.833)   25,25,15,10,5,5,5   30,30,30,15,10,5 (0.76)\n",
    "\n",
    "from sklearn.neural_network import MLPRegressor\n",
    "\n",
    "clf = MLPRegressor(hidden_layer_sizes=(40,40,40,40), learning_rate_init=0.003, random_state=1, max_iter=1, warm_start=True)\n",
    "licz=[]\n",
    "accu=[]\n",
    "loss=[]\n",
    "test=[]\n",
    "for i in range(1500):\n",
    "    clf.fit(trainData, trainLabels)\n",
    "    licz.append(i)\n",
    "    accu.append(clf.score(trainData, trainLabels))\n",
    "    loss.append(clf.loss_)\n",
    "    test.append(clf.score(X=testData, y=testLabels))\n",
    "    if i%50==0: #wyświetlaj postęp obliczeń, co 50-ta epoka\n",
    "        print(\"iter\",i,\"\\taccuracy\",clf.score(trainData, trainLabels),\"\\test\",clf.score(X=testData, y=testLabels),\"\\tloss\",clf.loss_)\n",
    "import matplotlib.pyplot as plt\n",
    "print(clf.score(X=testData, y=testLabels))\n",
    "plt.plot(licz[5:],accu[5:], loss[5:])"
   ]
  },
  {
   "cell_type": "code",
   "execution_count": 38,
   "metadata": {},
   "outputs": [
    {
     "name": "stderr",
     "output_type": "stream",
     "text": [
      "No handles with labels found to put in legend.\n"
     ]
    },
    {
     "data": {
      "image/png": "[encoded data removed]",
      "text/plain": [
       "<Figure size 1080x576 with 1 Axes>"
      ]
     },
     "metadata": {
      "needs_background": "light"
     },
     "output_type": "display_data"
    },
    {
     "name": "stderr",
     "output_type": "stream",
     "text": [
      "No handles with labels found to put in legend.\n",
      "No handles with labels found to put in legend.\n"
     ]
    },
    {
     "data": {
      "image/png": "[encoded data removed]",
      "text/plain": [
       "<Figure size 1080x576 with 1 Axes>"
      ]
     },
     "metadata": {
      "needs_background": "light"
     },
     "output_type": "display_data"
    }
   ],
   "source": [
    "fig, ax = plt.subplots(figsize=(15,8))\n",
    "\n",
    "legend = ax.legend(loc='upper center', shadow=True, fontsize='x-large')\n",
    "\n",
    "ax.plot(licz[5:],accu[5:], label=\"Zbiór treningowy\")\n",
    "ax.plot(licz[5:],test[5:], label=\"Zbiór testowy\")\n",
    "ax.set_xlabel('Współczynnik determinacji')\n",
    "ax.set_ylabel('Dokładność')\n",
    "legend = ax.legend(loc='best', shadow=True, fontsize='x-large')\n",
    "plt.show()\n",
    "\n",
    "fig, ax = plt.subplots(figsize=(15,8))\n",
    "\n",
    "legend = ax.legend(loc='upper center', shadow=True, fontsize='x-large')\n",
    "\n",
    "plt.plot(licz[5:],loss[5:])\n",
    "ax.set_xlabel('Liczba epok')\n",
    "ax.set_ylabel('Wartość błędu')\n",
    "legend = ax.legend(loc='best', shadow=True, fontsize='x-large')\n",
    "plt.show()"
   ]
  },
  {
   "cell_type": "code",
   "execution_count": 39,
   "metadata": {},
   "outputs": [],
   "source": [
    "ronaldo = X.iloc[[0]]\n",
    "messi = X.iloc[[1]]\n",
    "neymar = X.iloc[[2]]\n",
    "suarez = X.iloc[[3]]\n",
    "neuer = X.iloc[[4]]\n",
    "lewy = X.iloc[[5]]"
   ]
  },
  {
   "cell_type": "code",
   "execution_count": 40,
   "metadata": {},
   "outputs": [
    {
     "name": "stdout",
     "output_type": "stream",
     "text": [
      "Predicted values: \n",
      "Ronaldo:  1055629464.5802758\n",
      "Messi:  Value    1.060997e+09\n",
      "dtype: float64\n",
      "Neymar:  Value    9.459761e+08\n",
      "dtype: float64\n",
      "Suarez:  Value    8.588435e+08\n",
      "dtype: float64\n",
      "Neuer:  Value    9.267150e+08\n",
      "dtype: float64\n",
      "Lewandowski:  Value    9.291243e+08\n",
      "dtype: float64\n"
     ]
    }
   ],
   "source": [
    "Y2 = fifa[['Value']].copy()\n",
    "\n",
    "print(\"Predicted values: \")\n",
    "print(\"Ronaldo: \", (clf.predict(ronaldo)[0]*Y2.std()[0]) + Y2.mean()[0])\n",
    "print(\"Messi: \",(clf.predict(messi)*Y2.std()) + Y2.mean())\n",
    "print(\"Neymar: \",(clf.predict(neymar)*Y2.std()) + Y2.mean())\n",
    "print(\"Suarez: \",(clf.predict(suarez)*Y2.std()) + Y2.mean())\n",
    "print(\"Neuer: \",(clf.predict(neuer)*Y2.std()) + Y2.mean())\n",
    "print(\"Lewandowski: \",(clf.predict(lewy)*Y2.std()) + Y2.mean())"
   ]
  }
 ],
 "metadata": {
  "kernelspec": {
   "display_name": "Python 3",
   "language": "python",
   "name": "python3"
  },
  "language_info": {
   "codemirror_mode": {
    "name": "ipython",
    "version": 3
   },
   "file_extension": ".py",
   "mimetype": "text/x-python",
   "name": "python",
   "nbconvert_exporter": "python",
   "pygments_lexer": "ipython3",
   "version": "3.7.4"
  }
 },
 "nbformat": 4,
 "nbformat_minor": 2
}
